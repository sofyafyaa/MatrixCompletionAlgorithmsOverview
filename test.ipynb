{
 "cells": [
  {
   "cell_type": "code",
   "execution_count": 1,
   "metadata": {},
   "outputs": [],
   "source": [
    "from Dataset import MatrixGenerator"
   ]
  },
  {
   "cell_type": "code",
   "execution_count": 5,
   "metadata": {},
   "outputs": [
    {
     "data": {
      "text/plain": [
       "array([[-0.16579233,  0.38472444, -0.77904681, -0.54653674],\n",
       "       [-1.00947065, -2.75726675, -1.9735902 , -0.17739104],\n",
       "       [ 0.21755536,  0.39131333,  0.53554762,  0.16358091],\n",
       "       [-1.08925235, -1.08620779, -3.15553132, -1.35831157],\n",
       "       [-0.03512362, -1.1516645 ,  0.50472999,  0.64599631]])"
      ]
     },
     "execution_count": 5,
     "metadata": {},
     "output_type": "execute_result"
    }
   ],
   "source": [
    "MG = MatrixGenerator()\n",
    "random_matrix, missing_indices = MG.get_matrix(m=5, n=4, k=2, random_state=42, missing_fraction=0.2, noise_level=0)\n",
    "random_matrix"
   ]
  },
  {
   "cell_type": "code",
   "execution_count": null,
   "metadata": {},
   "outputs": [],
   "source": []
  }
 ],
 "metadata": {
  "kernelspec": {
   "display_name": "data-science-intro",
   "language": "python",
   "name": "python3"
  },
  "language_info": {
   "codemirror_mode": {
    "name": "ipython",
    "version": 3
   },
   "file_extension": ".py",
   "mimetype": "text/x-python",
   "name": "python",
   "nbconvert_exporter": "python",
   "pygments_lexer": "ipython3",
   "version": "3.12.6"
  }
 },
 "nbformat": 4,
 "nbformat_minor": 2
}
