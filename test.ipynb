{
 "cells": [
  {
   "cell_type": "code",
   "execution_count": 1,
   "metadata": {},
   "outputs": [],
   "source": [
    "from Dataset import MatrixGenerator"
   ]
  },
  {
   "cell_type": "code",
   "execution_count": 2,
   "metadata": {},
   "outputs": [],
   "source": [
    "import json\n",
    "params_str = json.dumps({\n",
    "    \"m\": 50,                 # Number of rows\n",
    "    \"n\": 50,                 # Number of columns\n",
    "    \"rank\": 10,              # Rank of the original matrix\n",
    "    \"missing_fraction\": 0.5, # 50% of the entries will be missing\n",
    "    \"noise_level\": 0,        # Standard deviation of Gaussian noise\n",
    "    \"num_iters\": 100,        # Maximum number of iterations for completion\n",
    "    \"tol\": 1e-9,             # Convergence tolerance, np.inf if it not need\n",
    "\n",
    "    \"alpha\": 0.33           # Another custom parametrs\n",
    "})"
   ]
  },
  {
   "cell_type": "code",
   "execution_count": 3,
   "metadata": {},
   "outputs": [
    {
     "data": {
      "text/plain": [
       "(array([[-1.65816428, -1.03565299, -3.00908319, ..., -1.16309223,\n",
       "          3.07041517,  3.39692719],\n",
       "        [ 0.12019511,  0.18088462,  4.30482148, ...,  3.60266947,\n",
       "         -1.13175039,  2.07573298],\n",
       "        [ 0.90046414,  0.85976975, -1.21270152, ...,  1.70091531,\n",
       "         -0.34410166,  0.58313111],\n",
       "        ...,\n",
       "        [-4.10182697, -0.8424992 , -0.94991737, ..., -5.93721224,\n",
       "          0.97663351,  2.62569084],\n",
       "        [ 2.2699357 ,  1.1379267 ,  4.66042693, ...,  3.08816334,\n",
       "          0.41678119,  1.0257088 ],\n",
       "        [ 2.8572988 , -1.24423194,  0.84161185, ..., -0.81378704,\n",
       "         -1.61016078, -6.41038886]]),\n",
       " array([[ True,  True,  True, ...,  True,  True,  True],\n",
       "        [ True, False,  True, ...,  True,  True,  True],\n",
       "        [ True,  True,  True, ...,  True,  True, False],\n",
       "        ...,\n",
       "        [ True,  True,  True, ..., False,  True,  True],\n",
       "        [ True,  True,  True, ...,  True,  True, False],\n",
       "        [ True,  True, False, ...,  True,  True, False]]))"
      ]
     },
     "execution_count": 3,
     "metadata": {},
     "output_type": "execute_result"
    }
   ],
   "source": [
    "MG = MatrixGenerator()\n",
    "random_matrix, missing_mask = MG.get_matrix(m=50, n=50, k=10, random_state=42, missing_fraction=0.2, noise_level=0)\n",
    "random_matrix, missing_mask"
   ]
  },
  {
   "cell_type": "code",
   "execution_count": 4,
   "metadata": {},
   "outputs": [
    {
     "name": "stdout",
     "output_type": "stream",
     "text": [
      "Iter 0: Cost=646.619653, GradNorm=3.757551e+00\n",
      "Iter 10: Cost=395.356933, GradNorm=2.419578e+00\n",
      "Iter 20: Cost=283.026042, GradNorm=1.725428e+00\n",
      "Iter 30: Cost=230.521821, GradNorm=1.307615e+00\n",
      "Iter 40: Cost=204.018315, GradNorm=1.045432e+00\n",
      "Iter 50: Cost=189.160715, GradNorm=8.717714e-01\n",
      "Iter 60: Cost=180.033495, GradNorm=7.502709e-01\n",
      "Iter 70: Cost=174.006982, GradNorm=6.611707e-01\n",
      "Iter 80: Cost=169.798029, GradNorm=5.932672e-01\n",
      "Iter 90: Cost=166.725830, GradNorm=5.398747e-01\n"
     ]
    }
   ],
   "source": [
    "import numpy as np\n",
    "from algorithms.RCGMatrixCompletion import RCGMatrixCompletion\n",
    "\n",
    "MC = RCGMatrixCompletion(params_str=params_str)\n",
    "factorization = MC.complete_matrix(random_matrix, missing_mask, \"rdg\", \"QPRECON\")"
   ]
  },
  {
   "cell_type": "code",
   "execution_count": null,
   "metadata": {},
   "outputs": [
    {
     "name": "stdout",
     "output_type": "stream",
     "text": [
      "Iter 0: Cost=646.619653, GradNorm=3.757551e+00\n",
      "Iter 10: Cost=235.916520, GradNorm=1.411202e+00\n",
      "Iter 20: Cost=170.865070, GradNorm=6.038141e-01\n",
      "Iter 30: Cost=159.238507, GradNorm=3.902267e-01\n",
      "Iter 40: Cost=155.165585, GradNorm=2.848225e-01\n",
      "Iter 50: Cost=153.373419, GradNorm=2.262468e-01\n",
      "Iter 60: Cost=152.423362, GradNorm=1.921021e-01\n",
      "Iter 70: Cost=151.878343, GradNorm=1.712364e-01\n",
      "Iter 80: Cost=151.564490, GradNorm=1.583897e-01\n",
      "Iter 90: Cost=151.395692, GradNorm=1.510513e-01\n"
     ]
    }
   ],
   "source": [
    "factorization = MC.complete_matrix(random_matrix, missing_mask, \"rcg\", \"QPRECON\")"
   ]
  },
  {
   "cell_type": "code",
   "execution_count": 16,
   "metadata": {},
   "outputs": [],
   "source": [
    "params_str = json.dumps({\n",
    "    \"m\": 50,                 # Number of rows\n",
    "    \"n\": 50,                 # Number of columns\n",
    "    \"rank\": 10,              # Rank of the original matrix\n",
    "    \"missing_fraction\": 0.5, # 50% of the entries will be missing\n",
    "    \"noise_level\": 0,        # Standard deviation of Gaussian noise\n",
    "    \"num_iters\": 350,        # Maximum number of iterations for completion\n",
    "    \"tol\": 1e-9,             # Convergence tolerance, np.inf if it not need\n",
    "\n",
    "    \"alpha\": 0.33           # Another custom parametrs\n",
    "})"
   ]
  },
  {
   "cell_type": "code",
   "execution_count": 17,
   "metadata": {},
   "outputs": [
    {
     "name": "stdout",
     "output_type": "stream",
     "text": [
      "Iter 0: Cost=646.619653, GradNorm=7.530651e+03\n",
      "Iter 10: Cost=278.058087, GradNorm=2.117118e+03\n",
      "Iter 20: Cost=208.808415, GradNorm=1.087602e+03\n",
      "Iter 30: Cost=183.626023, GradNorm=6.722611e+02\n",
      "Iter 40: Cost=171.174387, GradNorm=4.718679e+02\n",
      "Iter 50: Cost=163.835265, GradNorm=3.590530e+02\n",
      "Iter 60: Cost=159.117401, GradNorm=2.856519e+02\n",
      "Iter 70: Cost=155.970690, GradNorm=2.317942e+02\n",
      "Iter 80: Cost=153.658329, GradNorm=1.849726e+02\n",
      "Iter 90: Cost=151.941360, GradNorm=1.409154e+02\n",
      "Iter 100: Cost=150.752602, GradNorm=9.926599e+01\n",
      "Iter 110: Cost=150.019967, GradNorm=6.057628e+01\n",
      "Iter 120: Cost=149.666026, GradNorm=2.712824e+01\n",
      "Iter 130: Cost=149.586511, GradNorm=1.082589e+01\n",
      "Iter 140: Cost=149.581871, GradNorm=9.168629e+00\n",
      "Iter 150: Cost=149.578716, GradNorm=7.883740e+00\n",
      "Iter 160: Cost=149.576401, GradNorm=6.822825e+00\n",
      "Iter 170: Cost=149.574684, GradNorm=5.946296e+00\n",
      "Iter 180: Cost=149.573396, GradNorm=5.221729e+00\n",
      "Iter 190: Cost=149.572417, GradNorm=4.622466e+00\n",
      "Iter 200: Cost=149.571662, GradNorm=4.126500e+00\n",
      "Iter 210: Cost=149.571071, GradNorm=3.715593e+00\n",
      "Iter 220: Cost=149.570602, GradNorm=3.374592e+00\n",
      "Iter 230: Cost=149.570222, GradNorm=3.090890e+00\n",
      "Iter 240: Cost=149.569910, GradNorm=2.854007e+00\n",
      "Iter 250: Cost=149.569650, GradNorm=2.655254e+00\n",
      "Iter 260: Cost=149.569428, GradNorm=2.487459e+00\n",
      "Iter 270: Cost=149.569238, GradNorm=2.344734e+00\n",
      "Iter 280: Cost=149.569071, GradNorm=2.222277e+00\n",
      "Iter 290: Cost=149.568923, GradNorm=2.116198e+00\n",
      "Iter 300: Cost=149.568790, GradNorm=2.023360e+00\n",
      "Iter 310: Cost=149.568669, GradNorm=1.941250e+00\n",
      "Iter 320: Cost=149.568559, GradNorm=1.867862e+00\n",
      "Iter 330: Cost=149.568458, GradNorm=1.801598e+00\n",
      "Iter 340: Cost=149.568363, GradNorm=1.741192e+00\n"
     ]
    }
   ],
   "source": [
    "MC_3 = RCGMatrixCompletion(params_str=params_str)\n",
    "factorization = MC_3.complete_matrix(random_matrix, missing_mask, \"rdg\", \"QRIGHT-INV\")"
   ]
  },
  {
   "cell_type": "code",
   "execution_count": 18,
   "metadata": {},
   "outputs": [
    {
     "name": "stdout",
     "output_type": "stream",
     "text": [
      "Iter 0: Cost=646.619653, GradNorm=7.530651e+03\n",
      "Iter 10: Cost=189.195280, GradNorm=1.306016e+03\n",
      "Iter 20: Cost=154.691633, GradNorm=5.733058e+02\n",
      "Iter 30: Cost=151.138242, GradNorm=3.277672e+02\n",
      "Iter 40: Cost=150.631262, GradNorm=2.608918e+02\n",
      "Iter 50: Cost=149.981566, GradNorm=1.597426e+02\n",
      "Iter 60: Cost=149.694534, GradNorm=8.451646e+01\n",
      "Iter 70: Cost=149.599533, GradNorm=4.512660e+01\n",
      "Iter 80: Cost=149.576448, GradNorm=2.002063e+01\n",
      "Iter 90: Cost=149.570071, GradNorm=9.446836e+00\n",
      "Iter 100: Cost=149.568573, GradNorm=4.634621e+00\n",
      "Iter 110: Cost=149.567883, GradNorm=3.622990e+00\n",
      "Iter 120: Cost=149.567331, GradNorm=2.841322e+00\n",
      "Iter 130: Cost=149.566828, GradNorm=2.137627e+00\n",
      "Iter 140: Cost=149.566571, GradNorm=1.403261e+00\n",
      "Iter 150: Cost=149.566471, GradNorm=8.938133e-01\n",
      "Iter 160: Cost=149.566414, GradNorm=6.778628e-01\n",
      "Iter 170: Cost=149.566383, GradNorm=4.963226e-01\n",
      "Iter 180: Cost=149.566365, GradNorm=3.475132e-01\n",
      "Iter 190: Cost=149.566356, GradNorm=2.380728e-01\n",
      "Iter 200: Cost=149.566352, GradNorm=1.608979e-01\n",
      "Iter 210: Cost=149.566350, GradNorm=1.079008e-01\n",
      "Iter 220: Cost=149.566348, GradNorm=8.101428e-02\n",
      "Iter 230: Cost=149.566348, GradNorm=5.554138e-02\n",
      "Iter 240: Cost=149.566348, GradNorm=3.916847e-02\n",
      "Iter 250: Cost=149.566347, GradNorm=2.582001e-02\n",
      "Iter 260: Cost=149.566347, GradNorm=1.938083e-02\n",
      "Iter 270: Cost=149.566347, GradNorm=1.336839e-02\n",
      "Iter 280: Cost=149.566347, GradNorm=9.327423e-03\n",
      "Iter 290: Cost=149.566347, GradNorm=6.204935e-03\n",
      "Iter 300: Cost=149.566347, GradNorm=4.390248e-03\n",
      "Iter 310: Cost=149.566347, GradNorm=3.106649e-03\n",
      "Iter 320: Cost=149.566347, GradNorm=2.057494e-03\n",
      "Iter 330: Cost=149.566347, GradNorm=1.466691e-03\n",
      "Iter 340: Cost=149.566347, GradNorm=1.040923e-03\n"
     ]
    }
   ],
   "source": [
    "factorization = MC_3.complete_matrix(random_matrix, missing_mask, \"rcg\", \"QRIGHT-INV\")"
   ]
  },
  {
   "cell_type": "code",
   "execution_count": null,
   "metadata": {},
   "outputs": [],
   "source": []
  }
 ],
 "metadata": {
  "kernelspec": {
   "display_name": "data-science-intro",
   "language": "python",
   "name": "python3"
  },
  "language_info": {
   "codemirror_mode": {
    "name": "ipython",
    "version": 3
   },
   "file_extension": ".py",
   "mimetype": "text/x-python",
   "name": "python",
   "nbconvert_exporter": "python",
   "pygments_lexer": "ipython3",
   "version": "3.12.6"
  }
 },
 "nbformat": 4,
 "nbformat_minor": 2
}
